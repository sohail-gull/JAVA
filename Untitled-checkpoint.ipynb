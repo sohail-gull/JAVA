{
 "cells": [
  {
   "cell_type": "code",
   "execution_count": 3,
   "id": "7c2c2cac",
   "metadata": {},
   "outputs": [
    {
     "name": "stdout",
     "output_type": "stream",
     "text": [
      "Enter the file name: my.txt\n",
      "Enter the string to remove: sohail\n",
      "String removed successfully!\n"
     ]
    }
   ],
   "source": [
    "# write a python program that removes all the occurence of a specified string from a text file program should prompt the user to enter file name and string to be removed\n",
    "\n",
    "\n",
    "filename = input(\"Enter the file name: \")\n",
    "string_to_remove = input(\"Enter the string to remove: \")\n",
    "with open(filename, \"r\") as file:\n",
    "    lines = file.readlines()\n",
    "\n",
    "new_lines = [line.replace(string_to_remove, \"\") for line in lines]\n",
    "\n",
    "with open(filename, \"w\") as file:\n",
    "    file.writelines(new_lines)\n",
    "\n",
    "print(\"String removed successfully!\")\n"
   ]
  },
  {
   "cell_type": "code",
   "execution_count": 4,
   "id": "6362c6df",
   "metadata": {},
   "outputs": [
    {
     "name": "stdout",
     "output_type": "stream",
     "text": [
      "Enter the file name: my.txt\n",
      "Enter the old string to be replaced: hello\n",
      "Enter the new string to replace it: hi\n",
      "The old string has been replaced with the new string successfully!\n"
     ]
    }
   ],
   "source": [
    "# python program that replace a specified string in a text file with a new string program should prompt a user to enter  filename and old string and new string \n",
    "\n",
    "filename = input(\"Enter the file name: \")\n",
    "old_string = input(\"Enter the old string to be replaced: \")\n",
    "new_string = input(\"Enter the new string to replace it: \")\n",
    "\n",
    "with open(filename, 'r') as file:\n",
    "    file_content = file.read()\n",
    "\n",
    "new_content = file_content.replace(old_string, new_string)\n",
    "\n",
    "with open(filename, 'w') as file:\n",
    "    file.write(new_content)\n",
    "\n",
    "print(\"The old string has been replaced with the new string successfully!\")\n"
   ]
  },
  {
   "cell_type": "code",
   "execution_count": null,
   "id": "c3531d60",
   "metadata": {},
   "outputs": [],
   "source": [
    "# python program that reads marks of n no of students from a file and display their total and average"
   ]
  },
  {
   "cell_type": "code",
   "execution_count": null,
   "id": "a17b53f8",
   "metadata": {},
   "outputs": [],
   "source": [
    "# python program that copy data from one file to another by converting lower case to upper case and vice versa and other characters as it is \n",
    "\n",
    "# Open the input file for reading and the output file for writing\n",
    "with open('old.txt', 'r') as f_in, open('new.txt', 'w') as f_out:\n",
    "    # Loop through each line in the input file\n",
    "    for line in f_in:\n",
    "        # Loop through each character in the line\n",
    "        for char in line:\n",
    "            # Check if the character is lowercase\n",
    "            if char.islower():\n",
    "                # Convert it to uppercase and write it to the output file\n",
    "                f_out.write(char.upper())\n",
    "            # Check if the character is uppercase\n",
    "            elif char.isupper():\n",
    "                # Convert it to lowercase and write it to the output file\n",
    "                f_out.write(char.lower())\n",
    "            else:\n",
    "                # The character is not a letter, so write it to the output file as is\n",
    "                f_out.write(char)\n"
   ]
  }
 ],
 "metadata": {
  "kernelspec": {
   "display_name": "Python 3 (ipykernel)",
   "language": "python",
   "name": "python3"
  },
  "language_info": {
   "codemirror_mode": {
    "name": "ipython",
    "version": 3
   },
   "file_extension": ".py",
   "mimetype": "text/x-python",
   "name": "python",
   "nbconvert_exporter": "python",
   "pygments_lexer": "ipython3",
   "version": "3.9.13"
  }
 },
 "nbformat": 4,
 "nbformat_minor": 5
}
