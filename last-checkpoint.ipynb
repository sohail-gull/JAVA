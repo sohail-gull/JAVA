{
 "cells": [
  {
   "cell_type": "code",
   "execution_count": 4,
   "id": "ddf3f439",
   "metadata": {},
   "outputs": [
    {
     "name": "stdout",
     "output_type": "stream",
     "text": [
      "Contents copied successfully!\n"
     ]
    }
   ],
   "source": [
    "#Q2\n",
    "with open(\"my.txt\", \"r\") as input_file:\n",
    "\n",
    "    content = input_file.read()\n",
    "\n",
    "with open(\"my2.txt\", \"w\") as output_file:\n",
    "\n",
    "    output_file.write(content)\n",
    "\n",
    "print(\"Contents copied successfully!\")\n"
   ]
  },
  {
   "cell_type": "code",
   "execution_count": 5,
   "id": "da22873f",
   "metadata": {},
   "outputs": [
    {
     "name": "stdout",
     "output_type": "stream",
     "text": [
      "Number of characters: 24\n",
      "Number of words: 5\n",
      "Number of lines: 1\n"
     ]
    }
   ],
   "source": [
    "#Q3\n",
    "with open(\"my2.txt\", \"r\") as file:\n",
    "\n",
    "    num_chars = 0\n",
    "    num_words = 0\n",
    "    num_lines = 0\n",
    "\n",
    "    for line in file:\n",
    "\n",
    "        num_lines += 1\n",
    "\n",
    "        words = line.split()\n",
    "\n",
    "        num_words += len(words)\n",
    "\n",
    "        num_chars += len(line)\n",
    "print(\"Number of characters:\", num_chars)\n",
    "print(\"Number of words:\", num_words)\n",
    "print(\"Number of lines:\", num_lines)\n"
   ]
  },
  {
   "cell_type": "code",
   "execution_count": 9,
   "id": "0d97e94d",
   "metadata": {},
   "outputs": [
    {
     "name": "stdout",
     "output_type": "stream",
     "text": [
      "liahos si eman ym olleh\n"
     ]
    }
   ],
   "source": [
    "#Q4\n",
    "with open(\"my2.txt\", \"r\") as file:\n",
    "\n",
    "    for line in file:\n",
    "\n",
    "        line = line.strip()\n",
    "\n",
    "        reverse_line = line[::-1]\n",
    "\n",
    "        print(reverse_line)\n"
   ]
  },
  {
   "cell_type": "code",
   "execution_count": 10,
   "id": "acc1bdfa",
   "metadata": {},
   "outputs": [
    {
     "name": "stdout",
     "output_type": "stream",
     "text": [
      "{'h': 2, 'e': 2, 'l': 3, 'o': 2, ' ': 4, 'm': 2, 'y': 1, 'n': 1, 'a': 2, 'i': 2, 's': 2, '\\n': 1}\n"
     ]
    }
   ],
   "source": [
    "#Q5\n",
    "with open(\"my2.txt\", \"r\") as file:\n",
    "\n",
    "    char_frequency = {}\n",
    "\n",
    "    for line in file:\n",
    "\n",
    "        for char in line:\n",
    "\n",
    "            if char in char_frequency:\n",
    "                char_frequency[char] += 1\n",
    "\n",
    "            else:\n",
    "                char_frequency[char] = 1\n",
    "print(char_frequency)\n"
   ]
  },
  {
   "cell_type": "code",
   "execution_count": 12,
   "id": "0c4d8a50",
   "metadata": {},
   "outputs": [
    {
     "name": "stdout",
     "output_type": "stream",
     "text": [
      "Enter the number of elements: 6\n",
      "Enter element 1: 3\n",
      "Enter element 2: 2\n",
      "Enter element 3: 4\n",
      "Enter element 4: 6\n",
      "Enter element 5: 5\n",
      "Enter element 6: 7\n"
     ]
    }
   ],
   "source": [
    "#Q5\n",
    "n = int(input(\"Enter the number of elements: \"))\n",
    "\n",
    "even_numbers = []\n",
    "odd_numbers = []\n",
    "\n",
    "for i in range(n):\n",
    "    num = int(input(f\"Enter element {i+1}: \"))\n",
    "\n",
    "    if num % 2 == 0:\n",
    "        even_numbers.append(num)\n",
    "    else:\n",
    "        odd_numbers.append(num)\n",
    "\n",
    "with open(\"even.txt\", \"w\") as even_file:\n",
    "    for num in even_numbers:\n",
    "        even_file.write(str(num) + \"\\n\")\n",
    "\n",
    "with open(\"odd.txt\", \"w\") as odd_file:\n",
    "    for num in odd_numbers:\n",
    "        odd_file.write(str(num) + \"\\n\")\n"
   ]
  },
  {
   "cell_type": "code",
   "execution_count": 13,
   "id": "a5e46f9c",
   "metadata": {},
   "outputs": [
    {
     "name": "stdout",
     "output_type": "stream",
     "text": [
      "Enter the file name: sohail.py\n",
      "sohail.py is a Python file.\n"
     ]
    }
   ],
   "source": [
    "#Q6\n",
    "\n",
    "file_name = input(\"Enter the file name: \")\n",
    "\n",
    "file_extension = file_name.split(\".\")[-1]\n",
    "\n",
    "if file_extension == \"py\":\n",
    "    print(f\"{file_name} is a Python file.\")\n",
    "\n",
    "elif file_extension == \"c\":\n",
    "    print(f\"{file_name} is a C file.\")\n",
    "\n",
    "elif file_extension in [\"txt\", \"doc\", \"docx\", \"pdf\"]:\n",
    "    print(f\"{file_name} is a text file.\")\n",
    "\n",
    "else:\n",
    "    print(\"Error: File extension not recognized.\")\n"
   ]
  },
  {
   "cell_type": "code",
   "execution_count": 14,
   "id": "418c0fd8",
   "metadata": {},
   "outputs": [
    {
     "name": "stdout",
     "output_type": "stream",
     "text": [
      "Contents using read() method:\n",
      " Hello, world!\n",
      "This is a test file.\n",
      "It contains some text.\n",
      "\n",
      "Contents using readline() method:\n",
      "Hello, world!\n",
      "This is a test file.\n",
      "It contains some text.\n",
      "Contents using readlines() method:\n",
      "Hello, world!\n",
      "This is a test file.\n",
      "It contains some text.\n"
     ]
    }
   ],
   "source": [
    "#Q!\n",
    "#python program to perform write and read operations on file by making a file write data in it then  close the file and then open in read mode using all 3 methods of read\n",
    "file = open(\"data.txt\", \"w\")\n",
    "file.write(\"hello everybody \\n\")\n",
    "file.write(\"this is my file \\n\")\n",
    "\n",
    "file.close()\n",
    "with open(\"data.txt\", \"r\") as file:\n",
    "\n",
    "    contents1 = file.read()\n",
    "\n",
    "    print(\"Contents using read() method:\\n\", contents1)\n",
    "\n",
    "    file.seek(0)\n",
    "\n",
    "    print(\"Contents using readline() method:\")\n",
    "    line = file.readline()\n",
    "    while line:\n",
    "        print(line.strip())\n",
    "        line = file.readline()\n",
    "\n",
    "    file.seek(0)\n",
    "\n",
    "    contents3 = file.readlines()\n",
    "\n",
    "    print(\"Contents using readlines() method:\")\n",
    "    for line in contents3:\n",
    "        print(line.strip())\n"
   ]
  },
  {
   "cell_type": "code",
   "execution_count": null,
   "id": "a7956aa6",
   "metadata": {},
   "outputs": [],
   "source": []
  }
 ],
 "metadata": {
  "kernelspec": {
   "display_name": "Python 3 (ipykernel)",
   "language": "python",
   "name": "python3"
  },
  "language_info": {
   "codemirror_mode": {
    "name": "ipython",
    "version": 3
   },
   "file_extension": ".py",
   "mimetype": "text/x-python",
   "name": "python",
   "nbconvert_exporter": "python",
   "pygments_lexer": "ipython3",
   "version": "3.9.13"
  }
 },
 "nbformat": 4,
 "nbformat_minor": 5
}
